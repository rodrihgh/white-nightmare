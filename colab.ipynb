{
 "cells": [
  {
   "cell_type": "code",
   "execution_count": null,
   "metadata": {
    "collapsed": true,
    "pycharm": {
     "is_executing": true
    }
   },
   "outputs": [],
   "source": [
    "from tools import signal_processing as sp, media\n",
    "\n",
    "\n",
    "im_name = 'wnm_animation.mp4'\n",
    "audio_name = 'white_nightmare.wav'\n",
    "video_name = 'white_nightmare.mp4'\n",
    "\n",
    "maze_width = 32\n",
    "maze_height = 32\n",
    "wall_thickness = 4\n",
    "\n",
    "noise_std = 0.4\n",
    "background_std = .25\n",
    "white = 0.5\n",
    "black = -0.5\n",
    "\n",
    "fps = media.fps_default\n",
    "\n",
    "sec_fadein = 1\n",
    "sec_start = 1.5 - sec_fadein\n",
    "sec_sustain = 3 - sec_fadein\n",
    "sec_fadeout = 2"
   ]
  },
  {
   "cell_type": "code",
   "execution_count": null,
   "metadata": {
    "pycharm": {
     "name": "#%%\n"
    }
   },
   "outputs": [],
   "source": [
    "start_frames = media.time2samples(sec_start, fps)\n",
    "fadein_frames = media.time2samples(sec_fadein, fps)\n",
    "sustain_frames = media.time2samples(sec_sustain, fps)\n",
    "end_frames = media.time2samples(sec_fadeout, fps)\n",
    "\n",
    "max_shift = wall_thickness * 1.5\n",
    "lag = wall_thickness * 4\n",
    "att = sp.mag2db(2 * max_shift)\n",
    "\n",
    "alpha_maze = .5      # Do not set higher than .5\n",
    "alpha_stop = .1\n",
    "alpha_t = .8\n",
    "alpha_shift = sp.get_alpha(att, lag)\n",
    "\n",
    "bg_args = {'std': background_std, 'black': black, 'white': white}  # Parameters for background generation"
   ]
  },
  {
   "cell_type": "code",
   "execution_count": null,
   "metadata": {
    "pycharm": {
     "name": "#%%\n"
    }
   },
   "outputs": [],
   "source": [
    "print(\"Generating maze graph.\")\n",
    "root, children = sp.wilson_algorithm(maze_height, maze_width)\n",
    "print(\"Rendering basic maze.\")\n",
    "maze, maze_history = sp.render_maze(root, children, alpha_maze, **bg_args)"
   ]
  },
  {
   "cell_type": "code",
   "execution_count": null,
   "metadata": {
    "pycharm": {
     "name": "#%%\n"
    }
   },
   "outputs": [],
   "source": [
    "sec_maze = maze_history.shape[0] / fps\n",
    "total_sec = sec_start + sec_fadein + sec_maze + sec_sustain + sec_fadeout\n",
    "print(f\"Building the maze takes {round(sec_maze, 1)} seconds @{fps}fps.\"\n",
    "      f\"Total duration is {round(total_sec, 1)} seconds.\")\n",
    "\n",
    "print(\"Rendering transition from noise to maze.\")\n",
    "canvas = sp.render_transition(maze, maze_history, fadein_frames, alpha_stop,\n",
    "                              **bg_args, upfactor=wall_thickness)"
   ]
  },
  {
   "cell_type": "code",
   "execution_count": null,
   "metadata": {
    "pycharm": {
     "name": "#%%\n"
    }
   },
   "outputs": [],
   "source": [
    "print(\"Rendering transition from maze to noise.\")\n",
    "canvas = sp.insert_frames(canvas, sustain_frames + end_frames, pos=-1, ref=-1)\n",
    "canvas[-end_frames:, ] = sp.fade_out(canvas[-end_frames:, ],\n",
    "                                     alpha_stop, downsample=wall_thickness, **bg_args)\n",
    "print(\"Prepending noise frames.\")\n",
    "canvas = sp.insert_frames(canvas, start_frames, pos=0, ref=None,\n",
    "                          downsample=wall_thickness, **bg_args)\n",
    "print(\"Shifting maze.\")\n",
    "canvas = sp.shift_video(canvas, alpha_shift, alpha_t, max_shift)\n",
    "print(\"Adding fine-grain noise.\")\n",
    "canvas = sp.add_wgn(canvas, noise_std)"
   ]
  },
  {
   "cell_type": "code",
   "execution_count": null,
   "metadata": {
    "pycharm": {
     "name": "#%%\n"
    }
   },
   "outputs": [],
   "source": [
    "print(\"Plotting/saving animation.\")\n",
    "media.animation(canvas)\n"
   ]
  }
 ],
 "metadata": {
  "kernelspec": {
   "display_name": "Python 3",
   "language": "python",
   "name": "python3"
  },
  "language_info": {
   "codemirror_mode": {
    "name": "ipython",
    "version": 2
   },
   "file_extension": ".py",
   "mimetype": "text/x-python",
   "name": "python",
   "nbconvert_exporter": "python",
   "pygments_lexer": "ipython2",
   "version": "2.7.6"
  },
  "pycharm": {
   "stem_cell": {
    "cell_type": "raw",
    "metadata": {
     "collapsed": false
    },
    "source": []
   }
  }
 },
 "nbformat": 4,
 "nbformat_minor": 1
}